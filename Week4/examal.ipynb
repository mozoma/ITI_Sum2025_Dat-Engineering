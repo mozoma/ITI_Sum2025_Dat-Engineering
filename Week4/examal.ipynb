{
 "cells": [
  {
   "cell_type": "markdown",
   "id": "adc2cf1a",
   "metadata": {},
   "source": [
    "         Create a new array of 2*5 uints, filled with 6.\n",
    "                               "
   ]
  },
  {
   "cell_type": "code",
   "execution_count": 3,
   "id": "00ac6d9f",
   "metadata": {},
   "outputs": [
    {
     "data": {
      "text/plain": [
       "array([[6, 6, 6, 6, 6],\n",
       "       [6, 6, 6, 6, 6]], dtype=uint64)"
      ]
     },
     "execution_count": 3,
     "metadata": {},
     "output_type": "execute_result"
    }
   ],
   "source": [
    "import numpy as np\n",
    "\n",
    "np.full((2, 5), 6, dtype=np.uint)\n",
    "\n"
   ]
  },
  {
   "cell_type": "code",
   "execution_count": 6,
   "id": "3de7e781",
   "metadata": {},
   "outputs": [
    {
     "data": {
      "text/plain": [
       "array([[0.74151728, 0.88962718, 0.88989109, 0.32328566, 0.61191837],\n",
       "       [0.2664467 , 0.54141754, 0.42929588, 0.5526399 , 0.60010368],\n",
       "       [0.92605487, 0.28154751, 0.37870467, 0.64561903, 0.05782402],\n",
       "       [0.14377068, 0.26735907, 0.50832873, 0.82741922, 0.54118524],\n",
       "       [0.63520756, 0.7133214 , 0.65940605, 0.5368304 , 0.42477964]])"
      ]
     },
     "execution_count": 6,
     "metadata": {},
     "output_type": "execute_result"
    }
   ],
   "source": [
    "np.random.rand (5,5)"
   ]
  },
  {
   "cell_type": "code",
   "execution_count": 9,
   "id": "84cf0db1",
   "metadata": {},
   "outputs": [
    {
     "name": "stdout",
     "output_type": "stream",
     "text": [
      "[972 845 652 177 494 319 492 537 784 148]\n"
     ]
    }
   ],
   "source": [
    "import numpy as np\n",
    "\n",
    "arr = np.random.randint(1, 1000, 10)\n",
    "print(arr)\n"
   ]
  },
  {
   "cell_type": "code",
   "execution_count": null,
   "id": "1d749fc0",
   "metadata": {},
   "outputs": [
    {
     "ename": "NameError",
     "evalue": "name 'ranar' is not defined",
     "output_type": "error",
     "traceback": [
      "\u001b[1;31m---------------------------------------------------------------------------\u001b[0m",
      "\u001b[1;31mNameError\u001b[0m                                 Traceback (most recent call last)",
      "Cell \u001b[1;32mIn[10], line 1\u001b[0m\n\u001b[1;32m----> 1\u001b[0m \u001b[43mranar\u001b[49m\u001b[38;5;241m.\u001b[39margmax()\n",
      "\u001b[1;31mNameError\u001b[0m: name 'ranar' is not defined"
     ]
    }
   ],
   "source": []
  }
 ],
 "metadata": {
  "kernelspec": {
   "display_name": "Python 3",
   "language": "python",
   "name": "python3"
  },
  "language_info": {
   "codemirror_mode": {
    "name": "ipython",
    "version": 3
   },
   "file_extension": ".py",
   "mimetype": "text/x-python",
   "name": "python",
   "nbconvert_exporter": "python",
   "pygments_lexer": "ipython3",
   "version": "3.13.5"
  }
 },
 "nbformat": 4,
 "nbformat_minor": 5
}
