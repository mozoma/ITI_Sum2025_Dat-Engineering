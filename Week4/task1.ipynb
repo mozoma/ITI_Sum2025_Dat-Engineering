{
 "cells": [
  {
   "cell_type": "markdown",
   "id": "74c0be25",
   "metadata": {},
   "source": [
    "      NAME/ MOHAMED HAZEM FAHMY AHMED\n",
    "                   "
   ]
  },
  {
   "cell_type": "markdown",
   "id": "567643c2",
   "metadata": {},
   "source": [
    "#### Import NumPy as np"
   ]
  },
  {
   "cell_type": "code",
   "execution_count": 1,
   "id": "0b8a29cb",
   "metadata": {},
   "outputs": [],
   "source": [
    "import numpy as np"
   ]
  },
  {
   "cell_type": "markdown",
   "id": "c3da9289",
   "metadata": {},
   "source": [
    "#### Create an array of 10 zeros\n"
   ]
  },
  {
   "cell_type": "code",
   "execution_count": 2,
   "id": "131ea257",
   "metadata": {},
   "outputs": [
    {
     "name": "stdout",
     "output_type": "stream",
     "text": [
      "array([0., 0., 0., 0., 0., 0., 0., 0., 0., 0.])\n"
     ]
    }
   ],
   "source": [
    "zeros_array = np.zeros(10)\n",
    "print(repr(zeros_array))\n",
    "\n"
   ]
  },
  {
   "cell_type": "markdown",
   "id": "89158841",
   "metadata": {},
   "source": [
    "#### Create an array of 10 ones"
   ]
  },
  {
   "cell_type": "code",
   "execution_count": 3,
   "id": "59adf12d",
   "metadata": {},
   "outputs": [
    {
     "name": "stdout",
     "output_type": "stream",
     "text": [
      "array([1., 1., 1., 1., 1., 1., 1., 1., 1., 1.])\n"
     ]
    }
   ],
   "source": [
    "onse_array =np.ones(10)\n",
    "print(repr(onse_array))"
   ]
  },
  {
   "cell_type": "markdown",
   "id": "b7b01bba",
   "metadata": {},
   "source": [
    "#### Create an array of 10 fives\n"
   ]
  },
  {
   "cell_type": "code",
   "execution_count": 4,
   "id": "b5e49ee8",
   "metadata": {},
   "outputs": [
    {
     "name": "stdout",
     "output_type": "stream",
     "text": [
      "array([5., 5., 5., 5., 5., 5., 5., 5., 5., 5.])\n"
     ]
    }
   ],
   "source": [
    "fives_array=np.ones(10)*5\n",
    "print(repr(fives_array))"
   ]
  },
  {
   "cell_type": "markdown",
   "id": "a064bd41",
   "metadata": {},
   "source": [
    "#### Create an array of the integers from 10 to 50\n"
   ]
  },
  {
   "cell_type": "code",
   "execution_count": 5,
   "id": "0ab75ed8",
   "metadata": {},
   "outputs": [
    {
     "name": "stdout",
     "output_type": "stream",
     "text": [
      "array([10, 11, 12, 13, 14, 15, 16, 17, 18, 19, 20, 21, 22, 23, 24, 25, 26,\n",
      "       27, 28, 29, 30, 31, 32, 33, 34, 35, 36, 37, 38, 39, 40, 41, 42, 43,\n",
      "       44, 45, 46, 47, 48, 49, 50])\n"
     ]
    }
   ],
   "source": [
    "\n",
    "array_10_to_50 = np.arange(10, 51)\n",
    "print(repr(array_10_to_50))\n"
   ]
  }
 ],
 "metadata": {
  "kernelspec": {
   "display_name": "Python 3",
   "language": "python",
   "name": "python3"
  },
  "language_info": {
   "codemirror_mode": {
    "name": "ipython",
    "version": 3
   },
   "file_extension": ".py",
   "mimetype": "text/x-python",
   "name": "python",
   "nbconvert_exporter": "python",
   "pygments_lexer": "ipython3",
   "version": "3.13.5"
  }
 },
 "nbformat": 4,
 "nbformat_minor": 5
}
