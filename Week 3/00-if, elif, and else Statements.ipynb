{
 "cells": [
  {
   "cell_type": "markdown",
   "metadata": {},
   "source": [
    "# If, Elif, Else Statements\n",
    "\n",
    "        \n",
    "## Table Of Contents\n",
    "1. `if`, `else` statments\n",
    "2. Multiple branches with `elif`\n",
    "3. Many `if` conditions after each other\n",
    "4. Nested `if` statments\n",
    "5. Ternary operator expression\n",
    "6. Examples"
   ]
  },
  {
   "cell_type": "markdown",
   "metadata": {},
   "source": [
    "## 1) `if`, `else` statments 🔹\n",
    "\n",
    "\n",
    "The `if` statement is used to test a specific condition.  \n",
    "If the condition is `True`, the block of code inside the `if` will be executed.\n",
    "\n",
    "## 🧠 Syntax:\n",
    "\n",
    "```python\n",
    "if condition:\n",
    "    # code to execute if the condition is True\n",
    "\n",
    "# `else` Statement in Python\n",
    "\n",
    "The `else` statement is used to define a block of code  \n",
    "that runs **only if the `if` condition is False**.\n",
    "\n",
    "## 🧠 Syntax:\n",
    "\n",
    "```python\n",
    "if condition:\n",
    "    # code if condition is True\n",
    "else:\n",
    "    # code if condition is False\n"
   ]
  },
  {
   "cell_type": "code",
   "execution_count": 1,
   "metadata": {},
   "outputs": [
    {
     "name": "stdout",
     "output_type": "stream",
     "text": [
      "Hello\n",
      "hi\n",
      "python\n"
     ]
    }
   ],
   "source": [
    "if True:\n",
    "    print('Hello')\n",
    "    print('hi')\n",
    "print('python')"
   ]
  },
  {
   "cell_type": "code",
   "execution_count": 3,
   "metadata": {},
   "outputs": [
    {
     "name": "stdout",
     "output_type": "stream",
     "text": [
      "False\n"
     ]
    }
   ],
   "source": [
    "x = False\n",
    "if x :\n",
    "    print('X was True')\n",
    "else :\n",
    "    print('False')"
   ]
  },
  {
   "cell_type": "code",
   "execution_count": null,
   "metadata": {},
   "outputs": [],
   "source": []
  },
  {
   "cell_type": "code",
   "execution_count": null,
   "metadata": {},
   "outputs": [],
   "source": []
  },
  {
   "cell_type": "markdown",
   "metadata": {},
   "source": [
    "## 2)  Multiple Branches with `elif` in Python 🔸\n",
    "\n",
    "Python allows multiple condition checks using `elif` (short for \"else if\").  \n",
    "This gives you the ability to build more flexible decision structures beyond a simple `if`/`else`.\n",
    "\n",
    "## ✅ Syntax Reminder:\n",
    "\n",
    "```python\n",
    "if condition1:\n",
    "    # code if condition1 is True\n",
    "elif condition2:\n",
    "    # code if condition2 is True\n",
    "elif condition3:\n",
    "    # code if condition3 is True\n",
    "...\n",
    "else:\n",
    "    # code if none of the above conditions are True\n"
   ]
  },
  {
   "cell_type": "code",
   "execution_count": 5,
   "metadata": {},
   "outputs": [
    {
     "name": "stdout",
     "output_type": "stream",
     "text": [
      "Welcome Hasnaa\n"
     ]
    }
   ],
   "source": [
    "person = 'Hasnaa'\n",
    "\n",
    "if person == 'Eman':\n",
    "    print('Welcome Eman')\n",
    "elif person == 'Ahmed':\n",
    "    print('welcome Ahmed')\n",
    "elif person == 'Hasnaa' :\n",
    "    print('Welcome Hasnaa')\n",
    "else:\n",
    "    print(\"What's your name?\")"
   ]
  },
  {
   "cell_type": "markdown",
   "metadata": {},
   "source": [
    "## 4) Nested `if` statments"
   ]
  },
  {
   "cell_type": "markdown",
   "metadata": {},
   "source": [
    "for divide operation we should handle the divison on zero, so we use **nested if**"
   ]
  },
  {
   "cell_type": "code",
   "execution_count": 10,
   "metadata": {},
   "outputs": [
    {
     "name": "stdout",
     "output_type": "stream",
     "text": [
      "Wrong op\n"
     ]
    }
   ],
   "source": [
    "x = 10\n",
    "y = 0\n",
    "op = '/'\n",
    "if op == '+' :\n",
    "    print(f\"the sum for {x} + {y} = {x + y}\")\n",
    "elif op == '-' :\n",
    "    print(f\"the subtraction for {x} - {y} = {x - y}\")\n",
    "elif op == '*' :\n",
    "    print(f\"the multpling for {x} * {y} = {x * y}\")\n",
    "else:\n",
    "    print('Wrong op')\n",
    "    "
   ]
  },
  {
   "cell_type": "code",
   "execution_count": null,
   "metadata": {},
   "outputs": [],
   "source": []
  },
  {
   "cell_type": "markdown",
   "metadata": {},
   "source": [
    "## 5) Ternary operator expression"
   ]
  },
  {
   "cell_type": "code",
   "execution_count": 11,
   "metadata": {},
   "outputs": [
    {
     "name": "stdout",
     "output_type": "stream",
     "text": [
      "30\n"
     ]
    }
   ],
   "source": [
    "a = 30\n",
    "b = 20\n",
    "if a>b:\n",
    "    print(a)\n",
    "else:\n",
    "    print(b)"
   ]
  },
  {
   "cell_type": "code",
   "execution_count": 12,
   "metadata": {},
   "outputs": [
    {
     "name": "stdout",
     "output_type": "stream",
     "text": [
      "30\n"
     ]
    }
   ],
   "source": [
    "print(a if a >b else b)"
   ]
  },
  {
   "cell_type": "code",
   "execution_count": 14,
   "metadata": {},
   "outputs": [
    {
     "name": "stdout",
     "output_type": "stream",
     "text": [
      "Enter your Number : 0\n",
      "zero\n"
     ]
    }
   ],
   "source": [
    "num = int(input('Enter your Number : '))\n",
    "if num >0:\n",
    "    print('positive')\n",
    "elif num <0 :\n",
    "    print('Negative')\n",
    "else :\n",
    "    print('zero')"
   ]
  },
  {
   "cell_type": "code",
   "execution_count": null,
   "metadata": {},
   "outputs": [],
   "source": []
  },
  {
   "cell_type": "code",
   "execution_count": null,
   "metadata": {},
   "outputs": [],
   "source": []
  },
  {
   "cell_type": "markdown",
   "metadata": {},
   "source": [
    "# Gret Work!"
   ]
  }
 ],
 "metadata": {
  "kernelspec": {
   "display_name": "Python 3 (ipykernel)",
   "language": "python",
   "name": "python3"
  },
  "language_info": {
   "codemirror_mode": {
    "name": "ipython",
    "version": 3
   },
   "file_extension": ".py",
   "mimetype": "text/x-python",
   "name": "python",
   "nbconvert_exporter": "python",
   "pygments_lexer": "ipython3",
   "version": "3.9.13"
  }
 },
 "nbformat": 4,
 "nbformat_minor": 1
}
