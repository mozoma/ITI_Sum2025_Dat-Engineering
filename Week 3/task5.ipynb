{
 "cells": [
  {
   "cell_type": "markdown",
   "id": "7fa82b7b",
   "metadata": {},
   "source": [
    "         NAME / MOHAMED HAZEM FAHMY AHMED \n",
    "                                 \n",
    "\n",
    "\n",
    "Create a class called Person that has:\n",
    "\n",
    "Attributes: name, age\n",
    "A method greet() that prints:\n",
    "Hello, my name is {name} and I am {age} years old.\n"
   ]
  },
  {
   "cell_type": "code",
   "execution_count": 1,
   "id": "12827f5b",
   "metadata": {},
   "outputs": [],
   "source": [
    "class Person:\n",
    "    def __init__(self, name, age):\n",
    "        self.name = name\n",
    "        self.age = age\n",
    "\n",
    "    def greet(self):\n",
    "        print(f\"Hello, my name is {self.name} and I am {self.age} years old.\")\n"
   ]
  },
  {
   "cell_type": "markdown",
   "id": "5d8956a2",
   "metadata": {},
   "source": [
    "Q2:\n",
    "Create a class called Student that inherits from Person, and adds:\n",
    "\n",
    "A new attribute: grade\n",
    "A method info() that prints:\n",
    "I am a student in grade {grade}\n",
    "\n"
   ]
  },
  {
   "cell_type": "code",
   "execution_count": 2,
   "id": "a077ab20",
   "metadata": {},
   "outputs": [],
   "source": [
    "class Student(Person):\n",
    "    def __init__(self, name, age, grade):\n",
    "        super().__init__(name, age)\n",
    "        self.grade = grade\n",
    "\n",
    "    def info(self):\n",
    "        print(f\"I am a student in grade {self.grade}\")\n"
   ]
  },
  {
   "cell_type": "markdown",
   "id": "a7bd558c",
   "metadata": {},
   "source": [
    "Q3:\n",
    "In the Student class, override the greet() method so that it prints:\n",
    "Hi! I'm {name}, a student in grade {grade}\n"
   ]
  },
  {
   "cell_type": "code",
   "execution_count": 3,
   "id": "7c929680",
   "metadata": {},
   "outputs": [],
   "source": [
    "class Student(Person):\n",
    "    def __init__(self, name, age, grade):\n",
    "        super().__init__(name, age)\n",
    "        self.grade = grade\n",
    "\n",
    "    def info(self):\n",
    "        print(f\"I am a student in grade {self.grade}\")\n",
    "\n",
    "    def greet(self):\n",
    "        print(f\"Hi! I'm {self.name}, a student in grade {self.grade}\")\n"
   ]
  },
  {
   "cell_type": "markdown",
   "id": "51ff8cc2",
   "metadata": {},
   "source": [
    "\n",
    "Q4:\n",
    "Create another class called Teacher that inherits from Person, and overrides the greet() method to print:\n",
    "Hello, I'm Professor {name}, and I teach students.\n",
    "\n",
    "Then, write a function called introduce(person) that:\n",
    "\n",
    "Accepts any object of type Person, Student, or Teacher\n",
    "Calls the greet() method\n",
    "Test the function with an instance of each class.\n"
   ]
  },
  {
   "cell_type": "code",
   "execution_count": 4,
   "id": "f426420a",
   "metadata": {},
   "outputs": [
    {
     "name": "stdout",
     "output_type": "stream",
     "text": [
      "Hello, my name is Ali and I am 40 years old.\n",
      "Hi! I'm Mona, a student in grade 10\n",
      "Hello, I'm Professor Dr. Hany, and I teach students.\n"
     ]
    }
   ],
   "source": [
    "class Teacher(Person):\n",
    "    def greet(self):\n",
    "        print(f\"Hello, I'm Professor {self.name}, and I teach students.\")\n",
    "\n",
    "def introduce(person):\n",
    "    person.greet()\n",
    "\n",
    "p = Person(\"Ali\", 40)\n",
    "s = Student(\"Mona\", 16, 10)\n",
    "t = Teacher(\"Dr. Hany\", 55)\n",
    "\n",
    "introduce(p)  \n",
    "introduce(s)  \n",
    "introduce(t)  \n"
   ]
  },
  {
   "cell_type": "markdown",
   "id": "da114d46",
   "metadata": {},
   "source": [
    "\n",
    "Q5:\n",
    "Create a class called Calculator that contains:\n",
    "\n",
    "A @staticmethod called add(x, y) that returns the sum of two numbers.\n",
    "A @classmethod called count_operations(cls) that tracks how many times any operation has been used, stored in a class variable called counter."
   ]
  },
  {
   "cell_type": "code",
   "execution_count": 5,
   "id": "673eb41c",
   "metadata": {},
   "outputs": [
    {
     "name": "stdout",
     "output_type": "stream",
     "text": [
      "Sum: 15\n",
      "Sum: 10\n",
      "Total operations used: 2\n"
     ]
    }
   ],
   "source": [
    "class Calculator:\n",
    "    counter = 0  \n",
    "    @staticmethod\n",
    "    def add(x, y):\n",
    "        Calculator._increment_counter()\n",
    "        return x + y\n",
    "\n",
    "    @classmethod\n",
    "    def _increment_counter(cls):\n",
    "        cls.counter += 1\n",
    "\n",
    "    @classmethod\n",
    "    def count_operations(cls):\n",
    "        return cls.counter\n",
    "\n",
    "print(\"Sum:\", Calculator.add(10, 5))\n",
    "print(\"Sum:\", Calculator.add(3, 7))\n",
    "print(\"Total operations used:\", Calculator.count_operations())\n"
   ]
  }
 ],
 "metadata": {
  "kernelspec": {
   "display_name": "Python 3",
   "language": "python",
   "name": "python3"
  },
  "language_info": {
   "codemirror_mode": {
    "name": "ipython",
    "version": 3
   },
   "file_extension": ".py",
   "mimetype": "text/x-python",
   "name": "python",
   "nbconvert_exporter": "python",
   "pygments_lexer": "ipython3",
   "version": "3.13.5"
  }
 },
 "nbformat": 4,
 "nbformat_minor": 5
}
