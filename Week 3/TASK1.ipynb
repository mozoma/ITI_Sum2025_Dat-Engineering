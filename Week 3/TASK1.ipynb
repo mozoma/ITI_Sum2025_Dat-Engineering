{
 "cells": [
  {
   "cell_type": "markdown",
   "id": "76cc7e4b",
   "metadata": {},
   "source": [
    "         NAME/ MOHAMED HAZEM FAHMY AHMED\n",
    "### Task 1: Basic Calculator\n",
    "\n",
    "1. Write a program that performs basic arithmetic operations.\n",
    "   - Prompt the user to input two numbers (floating-point).\n",
    "   - Calculate and print the following:\n",
    "     - Addition\n",
    "     - Subtraction\n",
    "     - Multiplication\n",
    "     - Division\n",
    "     - Floor Division\n",
    "     - Modulus\n",
    "     - Exponentiation\n",
    "     \n",
    "     ### used  number 8 , 6"
   ]
  },
  {
   "cell_type": "code",
   "execution_count": 8,
   "id": "8f6ae028",
   "metadata": {},
   "outputs": [
    {
     "name": "stdout",
     "output_type": "stream",
     "text": [
      "Addition: 14.0\n",
      "Subtraction: 2.0\n",
      "Multiplication: 48.0\n",
      "Division: 1.3333333333333333\n",
      "Floor Division: 1.0\n",
      "Modulus: 2.0\n",
      "Exponentiation: 262144.0\n"
     ]
    }
   ],
   "source": [
    "num1 = float(input(\"Enter the first number: \"))\n",
    "num2 = float(input(\"Enter the second number: \"))\n",
    "print(\"Addition:\", num1 + num2)\n",
    "print(\"Subtraction:\", num1 - num2)\n",
    "print(\"Multiplication:\", num1 * num2)\n",
    "print(\"Division:\", num1 / num2)\n",
    "print(\"Floor Division:\", num1 // num2)\n",
    "print(\"Modulus:\", num1 % num2)\n",
    "print(\"Exponentiation:\", num1 ** num2)\n"
   ]
  },
  {
   "cell_type": "markdown",
   "id": "3554a45e",
   "metadata": {},
   "source": [
    "                           ### Task 2: Sum of Two Integers\n",
    "\n",
    "2. Create a program that sums two integers.\n",
    "   - Prompt the user to input two integers.\n",
    "   - Calculate the sum and print a message in the following format:\n",
    "     - \"The 1st number is [first_number] and the 2nd number is [second_number], the sum is [sum"
   ]
  },
  {
   "cell_type": "code",
   "execution_count": 9,
   "id": "94678067",
   "metadata": {},
   "outputs": [
    {
     "name": "stdout",
     "output_type": "stream",
     "text": [
      "The 1st number is 6 and the 2nd number is 30, the sum is 36\n"
     ]
    }
   ],
   "source": [
    "first_number = int(input(\"Enter the 1st integer: \"))\n",
    "second_number = int(input(\"Enter the 2nd integer: \"))\n",
    "\n",
    "sum_result = first_number + second_number\n",
    "\n",
    "print(f\"The 1st number is {first_number} and the 2nd number is {second_number}, the sum is {sum_result}\")\n"
   ]
  },
  {
   "cell_type": "markdown",
   "id": "b3c3f6ff",
   "metadata": {},
   "source": [
    "\n",
    "                             ### Task 3: User Information       \n",
    "                                     \n",
    "\n",
    "3. Develop a program to collect user information.\n",
    "   - Prompt the user for their name, age, and gender.\n",
    "   - Print the information in the following format:\n",
    "     - \"Username is: [name], age is: [age], gender is: [gender].\""
   ]
  },
  {
   "cell_type": "code",
   "execution_count": 10,
   "id": "4998f06a",
   "metadata": {},
   "outputs": [
    {
     "name": "stdout",
     "output_type": "stream",
     "text": [
      "Username is: MOHAMED, age is: 22, gender is: MALE.\n"
     ]
    }
   ],
   "source": [
    "name = input(\"Enter your name: \")\n",
    "age = input(\"Enter your age: \")\n",
    "gender = input(\"Enter your gender: \")\n",
    "\n",
    "print(f\"Username is: {name}, age is: {age}, gender is: {gender}.\")\n"
   ]
  }
 ],
 "metadata": {
  "kernelspec": {
   "display_name": "Python 3",
   "language": "python",
   "name": "python3"
  },
  "language_info": {
   "codemirror_mode": {
    "name": "ipython",
    "version": 3
   },
   "file_extension": ".py",
   "mimetype": "text/x-python",
   "name": "python",
   "nbconvert_exporter": "python",
   "pygments_lexer": "ipython3",
   "version": "3.13.5"
  }
 },
 "nbformat": 4,
 "nbformat_minor": 5
}
