{
 "cells": [
  {
   "cell_type": "markdown",
   "id": "c504c808",
   "metadata": {},
   "source": [
    "        NAME / Mohamed Hazem  fahmy      \n",
    "                             "
   ]
  },
  {
   "cell_type": "markdown",
   "id": "287f56f8",
   "metadata": {},
   "source": [
    "Task4: \n",
    "Write a Python program to calculate the sum of all even numbers from 0 to 100"
   ]
  },
  {
   "cell_type": "code",
   "execution_count": 4,
   "id": "a0454b37",
   "metadata": {},
   "outputs": [
    {
     "name": "stdout",
     "output_type": "stream",
     "text": [
      "Sum: 2550\n"
     ]
    }
   ],
   "source": [
    "even_sum = 0\n",
    "num = 0\n",
    "while num <= 100:\n",
    "    even_sum += num\n",
    "    num += 2\n",
    "print(\"Sum:\", even_sum)\n"
   ]
  },
  {
   "cell_type": "markdown",
   "id": "cd37d557",
   "metadata": {},
   "source": [
    "                  Task 5: \n",
    "Write a Python function named calculator that takes three optional parameters: \n",
    "● x (first number), \n",
    "● y (second number), \n",
    "● op (operator: +, -, *, or /). \n",
    "Your function should: \n",
    "● Operate based on the given operator. \n",
    "● Print a message with the result. \n",
    "● If y is zero and the operation is division, print \"can't divide by zero\". \n",
    "● If the operator is not valid, print \"wrong operation\". "
   ]
  },
  {
   "cell_type": "code",
   "execution_count": null,
   "id": "edb83114",
   "metadata": {},
   "outputs": [],
   "source": [
    "def calculator(x=None, y=None, op=None):\n",
    "    if x is None or y is None or op is None:\n",
    "        print(\"Please provide all three parameters: x, y, and op.\")\n",
    "        return\n",
    "\n",
    "    if op == '+':\n",
    "        print(\"Result:\", x + y)\n",
    "    elif op == '-':\n",
    "        print(\"Result:\", x - y)\n",
    "    elif op == '*':\n",
    "        print(\"Result:\", x * y)\n",
    "    elif op == '/':\n",
    "        if y == 0:\n",
    "            print(\"can't divide by zero\")\n",
    "        else:\n",
    "            print(\"Result:\", x / y)\n",
    "    else:\n",
    "        print(\"wrong operation\")\n"
   ]
  },
  {
   "cell_type": "markdown",
   "id": "ea25f30b",
   "metadata": {},
   "source": [
    "                   Task 6: \n",
    "\n",
    "\n",
    "                   \n",
    "Write a Python function named circle that takes two optional parameters: \n",
    "● radius (default is 1) \n",
    "● op (operation to calculate: 'circum', 'area', or 'volume') \n",
    "Your function should: \n",
    "● Return the circumference if op is 'circum' → use formula: 2 * π * radius \n",
    "● Return the area if op is 'area' → use formula: π * radius² \n",
    "● Return the volume of a sphere if op is 'volume' → use formula: (4/3) * π * radius³ \n",
    "● Return \"wrong operation\" if the operation is not valid. \n",
    "● Use 3.14 as the value of π.  "
   ]
  },
  {
   "cell_type": "code",
   "execution_count": 6,
   "id": "0aef5a00",
   "metadata": {},
   "outputs": [],
   "source": [
    "\n",
    "\n",
    "def circle(radius=1, op=None):\n",
    "    pi = 3.14  \n",
    "\n",
    "    if op == 'circum':\n",
    "        return 2 * pi * radius\n",
    "    elif op == 'area':\n",
    "        return pi * radius ** 2\n",
    "    elif op == 'volume':\n",
    "        return (4/3) * pi * radius ** 3\n",
    "    else:\n",
    "        return \"wrong operation\"\n",
    "\n"
   ]
  }
 ],
 "metadata": {
  "kernelspec": {
   "display_name": "Python 3",
   "language": "python",
   "name": "python3"
  },
  "language_info": {
   "codemirror_mode": {
    "name": "ipython",
    "version": 3
   },
   "file_extension": ".py",
   "mimetype": "text/x-python",
   "name": "python",
   "nbconvert_exporter": "python",
   "pygments_lexer": "ipython3",
   "version": "3.13.5"
  }
 },
 "nbformat": 4,
 "nbformat_minor": 5
}
